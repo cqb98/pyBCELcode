{
 "cells": [
  {
   "cell_type": "code",
   "execution_count": 1,
   "metadata": {
    "ExecuteTime": {
     "end_time": "2023-11-06T02:02:55.714707Z",
     "start_time": "2023-11-06T02:02:55.708707Z"
    }
   },
   "outputs": [],
   "source": [
    "import string\n",
    "import gzip"
   ]
  },
  {
   "cell_type": "code",
   "execution_count": 2,
   "metadata": {
    "ExecuteTime": {
     "end_time": "2023-11-06T02:02:55.874716Z",
     "start_time": "2023-11-06T02:02:55.867716Z"
    }
   },
   "outputs": [],
   "source": [
    "ms=\"ABCDEFGHIJKLMNOPQRSTUVWXYZghijklmnopqrstuvwxyz$_\""
   ]
  },
  {
   "cell_type": "code",
   "execution_count": 3,
   "metadata": {
    "ExecuteTime": {
     "end_time": "2023-11-06T02:02:56.016725Z",
     "start_time": "2023-11-06T02:02:56.008724Z"
    }
   },
   "outputs": [],
   "source": [
    "isLowerHex=lambda ch:True if (( '0'<=ch) and (ch<='9') ) or ( ('a'<=ch)and(ch<='f')) else False"
   ]
  },
  {
   "cell_type": "code",
   "execution_count": 4,
   "metadata": {
    "ExecuteTime": {
     "end_time": "2023-11-06T02:02:56.162733Z",
     "start_time": "2023-11-06T02:02:56.156733Z"
    }
   },
   "outputs": [],
   "source": [
    "def encode(b:bytes,compress=False):\n",
    "    \n",
    "    if(compress):\n",
    "        b=bytes(gzip.compress(b))\n",
    "        #print(b)\n",
    "    s=\"$$BCEL$$\"\n",
    "    for ch in b:\n",
    "        if((ch >= ord('a')) and (ch <= ord('z'))):\n",
    "            s+=chr(ch)\n",
    "        elif((ch >= ord('A')) and (ch <= ord('Z')) ):\n",
    "            s+=chr(ch)\n",
    "        elif ((ch >= ord('0')) and (ch <= ord('9'))):\n",
    "            s+=chr(ch)\n",
    "        elif (ch == ord('_') ):\n",
    "            s+=chr(ch)\n",
    "        elif( ( 0<=ch) and (ch<48)):\n",
    "            s+=\"$\"+ms[ch]\n",
    "        else:\n",
    "            s+=\"$%02x\"%(ch)\n",
    "    \n",
    "    return s\n",
    "\n",
    "#print(encode(b\"123\",True))"
   ]
  },
  {
   "cell_type": "code",
   "execution_count": 5,
   "metadata": {
    "ExecuteTime": {
     "end_time": "2023-11-06T02:02:56.318742Z",
     "start_time": "2023-11-06T02:02:56.307741Z"
    }
   },
   "outputs": [],
   "source": [
    "def decode(s:str,decompress=False):\n",
    "    \n",
    "    bs=[]\n",
    "    length=len(s)\n",
    "    indexstr=\"$$BCEL$$\"\n",
    "    p=s.index(indexstr)+len(indexstr)\n",
    "    #print(s[p:])\n",
    "    \n",
    "    while(p<length):\n",
    "        #print(s[p])\n",
    "        if(s[p]!='$'):\n",
    "            ch=ord(s[p])\n",
    "            p+=1\n",
    "        else:\n",
    "            \n",
    "            p+=1\n",
    "            if isLowerHex(s[p]):\n",
    "                p+=1\n",
    "                ch=int(s[p-1]+s[p],16)\n",
    "                p+=1\n",
    "            else:\n",
    "                #print(s[p])\n",
    "                ch=ms.index(s[p])\n",
    "                p+=1\n",
    "        bs.append(ch)\n",
    "    b=bytes(bs)\n",
    "    if len(b)>2:\n",
    "        if b[:2]==b\"\\x1f\\x8b\" :#maybe compress!\n",
    "            if(decompress):\n",
    "                #print(b)\n",
    "                b=gzip.decompress(b)\n",
    "            else:\n",
    "                print(\"maybe compress,but you did not pass compress\")\n",
    "    return b\n",
    "                "
   ]
  },
  {
   "cell_type": "code",
   "execution_count": 6,
   "metadata": {
    "ExecuteTime": {
     "end_time": "2023-11-06T02:02:56.441749Z",
     "start_time": "2023-11-06T02:02:56.438749Z"
    }
   },
   "outputs": [],
   "source": [
    "a=\"$$BCEL$$$l$8b$I$A$A$A$A$A$A$AuQ$cbn$daP$Q$3d$X$M6$8e$J$8f$U$f2h$9e$7d$C$L$yu$L$ea$a6J7u$93$wD$e9$fa$fa$e6$8a$5e062$97$88$3f$ea$9a$N$ad$ba$e8$H$f4$a3$aa$ccu$9eRZK$9e$f1$9c$99s$e6$8c$fc$e7$ef$af$df$A$de$e1$8d$L$H$9b$$$b6$b0$ed$60$c7$e4$e76v$5d$U$b0gc$df$c6$BC$b1$afb$a5$df3$e4$5b$ed$L$G$ebCr$v$Z$w$81$8a$e5$c9$7c$S$ca$f4$9c$87$R$n$f5$m$R$3c$ba$e0$a92$f5$zh$e9oj$c6$b0$j$88d$e2_$f2t$y$d30Y$f8$a1$90$91$7f$7c$a5$a2$k$83$d3$X$d1$ed$GF$8cF0$e2W$dc$8fx$3c$f4$8f$XBN$b5Jb$g$x$P4$X$e3$cf$7c$9a$v$93I$Gw$90$ccS$n$3f$w$b3$a9d$e4$ba$86$eb$a1$E$d7$c6$a1$87$p$bc$m$7dr$r$bar$n$3d$bc$c4$x$86$8d$7f$e8$7bx$N$97a$f3$3f$$$Z$aa$P$a4$d3p$q$85f$a8$3d$40g$f3X$ab$J$99p$87R$df$X$8dV$3bx2C$97X$e4E0$bcm$3d$ea$Ot$aa$e2a$ef1$e1K$9a$I9$9b$R$a12$a5$a6$ce$ee$3fO$b9$90t$97M$bf$cd$3c90s$z$c55$aa$7c$ca$8cr$a1$f3$Dl$99$b5$3d$8a$c5$M$cc$a3L$d1$bb$Z$c0$3a$w$94$jT$ef$c9$3c$T$D$ea$3f$91$ab$e7W$b0$be$7e$87$f3$a9$b3Bq$99$e1$r$e2$WH$c5$u6$e9$cb$e8$962$d4$se$H5R$ba$dbP$86Eu$9d$aa$Nzm$e4$C$h$cf$yj42S$cdk$dfl$i$C$80$C$A$A\"\n",
    "a=\"$$BCEL$$$l$8b$I$A$a9$3fHe$C$ff342$G$A$d2cH$88$D$A$A$A\""
   ]
  },
  {
   "cell_type": "code",
   "execution_count": 7,
   "metadata": {
    "ExecuteTime": {
     "end_time": "2023-11-06T02:02:56.586757Z",
     "start_time": "2023-11-06T02:02:56.572756Z"
    }
   },
   "outputs": [
    {
     "name": "stdout",
     "output_type": "stream",
     "text": [
      "b'123'\n"
     ]
    }
   ],
   "source": [
    "b=decode(a,True)\n",
    "print(b)"
   ]
  },
  {
   "cell_type": "code",
   "execution_count": 8,
   "metadata": {
    "ExecuteTime": {
     "end_time": "2023-11-06T02:02:56.967779Z",
     "start_time": "2023-11-06T02:02:56.958778Z"
    }
   },
   "outputs": [],
   "source": [
    "#f=open(\"1.class\",\"wb\")\n",
    "#f.write(b)\n",
    "#f.close()"
   ]
  },
  {
   "cell_type": "markdown",
   "metadata": {},
   "source": [
    "\n",
    "define:\n",
    "\n",
    "```\n",
    "encode(b:bytes,compress=False  ):\n",
    "decode(s:str  ,decompress=False):\n",
    "```\n",
    "\n",
    "usage:\n",
    "```\n",
    "import pyBCELcode\n",
    "pyBCELcode.encode(b\"123\",True)\n",
    "pyBCELcode.encode(\"$$BCEL$$....\",True)\n",
    "\n",
    "```\n",
    "\n",
    "\n",
    "JAVA中把类生成BCEL:\n",
    "```\n",
    " com.sun.org.apache.bcel.internal.classfile.JavaClass cls = com.sun.org.apache.bcel.internal.Repository.lookupClass(A01_agent.class);//将class对象表示java字节码的对象javaclass\n",
    "            System.out.println(\"length\"+cls.getBytes().length);\n",
    "            String code = com.sun.org.apache.bcel.internal.classfile.Utility.encode(cls.getBytes(), true);//将java字节码对象javaclass转化为JavaClass格式的字节码\n",
    "            System.out.println(\"length\"+code.length());\n",
    "            System.out.println(\"$$BCEL$$\" + code);//这是前缀要求\n",
    "```"
   ]
  },
  {
   "cell_type": "code",
   "execution_count": null,
   "metadata": {},
   "outputs": [],
   "source": []
  }
 ],
 "metadata": {
  "kernelspec": {
   "display_name": "Python 3",
   "language": "python",
   "name": "python3"
  },
  "language_info": {
   "codemirror_mode": {
    "name": "ipython",
    "version": 3
   },
   "file_extension": ".py",
   "mimetype": "text/x-python",
   "name": "python",
   "nbconvert_exporter": "python",
   "pygments_lexer": "ipython3",
   "version": "3.7.6"
  }
 },
 "nbformat": 4,
 "nbformat_minor": 4
}
